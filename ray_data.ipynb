{
 "cells": [
  {
   "cell_type": "code",
   "execution_count": 2,
   "metadata": {},
   "outputs": [
    {
     "name": "stderr",
     "output_type": "stream",
     "text": [
      "2024-10-19 12:53:36,693\tINFO worker.py:1619 -- Calling ray.init() again after it has already been called.\n"
     ]
    },
    {
     "data": {
      "application/vnd.jupyter.widget-view+json": {
       "model_id": "b67d908537fd496092feaac4455a577a",
       "version_major": 2,
       "version_minor": 0
      },
      "text/html": [
       "<div class=\"lm-Widget p-Widget lm-Panel p-Panel jp-Cell-outputWrapper\">\n",
       "    <div style=\"margin-left: 50px;display: flex;flex-direction: row;align-items: center\">\n",
       "        <div class=\"jp-RenderedHTMLCommon\" style=\"display: flex; flex-direction: row;\">\n",
       "  <svg viewBox=\"0 0 567 224\" fill=\"none\" xmlns=\"http://www.w3.org/2000/svg\" style=\"height: 3em;\">\n",
       "    <g clip-path=\"url(#clip0_4338_178347)\">\n",
       "        <path d=\"M341.29 165.561H355.29L330.13 129.051C345.63 123.991 354.21 112.051 354.21 94.2307C354.21 71.3707 338.72 58.1807 311.88 58.1807H271V165.561H283.27V131.661H311.8C314.25 131.661 316.71 131.501 319.01 131.351L341.25 165.561H341.29ZM283.29 119.851V70.0007H311.82C331.3 70.0007 342.34 78.2907 342.34 94.5507C342.34 111.271 331.34 119.861 311.82 119.861L283.29 119.851ZM451.4 138.411L463.4 165.561H476.74L428.74 58.1807H416L367.83 165.561H380.83L392.83 138.411H451.4ZM446.19 126.601H398L422 72.1407L446.24 126.601H446.19ZM526.11 128.741L566.91 58.1807H554.35L519.99 114.181L485.17 58.1807H472.44L514.01 129.181V165.541H526.13V128.741H526.11Z\" fill=\"var(--jp-ui-font-color0)\"/>\n",
       "        <path d=\"M82.35 104.44C84.0187 97.8827 87.8248 92.0678 93.1671 87.9146C98.5094 83.7614 105.083 81.5067 111.85 81.5067C118.617 81.5067 125.191 83.7614 130.533 87.9146C135.875 92.0678 139.681 97.8827 141.35 104.44H163.75C164.476 101.562 165.622 98.8057 167.15 96.2605L127.45 56.5605C121.071 60.3522 113.526 61.6823 106.235 60.3005C98.9443 58.9187 92.4094 54.9203 87.8602 49.0574C83.3109 43.1946 81.0609 35.8714 81.5332 28.4656C82.0056 21.0599 85.1679 14.0819 90.4252 8.8446C95.6824 3.60726 102.672 0.471508 110.08 0.0272655C117.487 -0.416977 124.802 1.86091 130.647 6.4324C136.493 11.0039 140.467 17.5539 141.821 24.8501C143.175 32.1463 141.816 39.6859 138 46.0505L177.69 85.7505C182.31 82.9877 187.58 81.4995 192.962 81.4375C198.345 81.3755 203.648 82.742 208.33 85.3976C213.012 88.0532 216.907 91.9029 219.616 96.5544C222.326 101.206 223.753 106.492 223.753 111.875C223.753 117.258 222.326 122.545 219.616 127.197C216.907 131.848 213.012 135.698 208.33 138.353C203.648 141.009 198.345 142.375 192.962 142.313C187.58 142.251 182.31 140.763 177.69 138L138 177.7C141.808 184.071 143.155 191.614 141.79 198.91C140.424 206.205 136.44 212.75 130.585 217.313C124.731 221.875 117.412 224.141 110.004 223.683C102.596 223.226 95.6103 220.077 90.3621 214.828C85.1139 209.58 81.9647 202.595 81.5072 195.187C81.0497 187.779 83.3154 180.459 87.878 174.605C92.4405 168.751 98.9853 164.766 106.281 163.401C113.576 162.035 121.119 163.383 127.49 167.19L167.19 127.49C165.664 124.941 164.518 122.182 163.79 119.3H141.39C139.721 125.858 135.915 131.673 130.573 135.826C125.231 139.98 118.657 142.234 111.89 142.234C105.123 142.234 98.5494 139.98 93.2071 135.826C87.8648 131.673 84.0587 125.858 82.39 119.3H60C58.1878 126.495 53.8086 132.78 47.6863 136.971C41.5641 141.163 34.1211 142.972 26.7579 142.059C19.3947 141.146 12.6191 137.574 7.70605 132.014C2.79302 126.454 0.0813599 119.29 0.0813599 111.87C0.0813599 104.451 2.79302 97.2871 7.70605 91.7272C12.6191 86.1673 19.3947 82.5947 26.7579 81.6817C34.1211 80.7686 41.5641 82.5781 47.6863 86.7696C53.8086 90.9611 58.1878 97.2456 60 104.44H82.35ZM100.86 204.32C103.407 206.868 106.759 208.453 110.345 208.806C113.93 209.159 117.527 208.258 120.522 206.256C123.517 204.254 125.725 201.276 126.771 197.828C127.816 194.38 127.633 190.677 126.253 187.349C124.874 184.021 122.383 181.274 119.205 179.577C116.027 177.88 112.359 177.337 108.826 178.042C105.293 178.746 102.113 180.654 99.8291 183.44C97.5451 186.226 96.2979 189.718 96.3 193.32C96.2985 195.364 96.7006 197.388 97.4831 199.275C98.2656 201.163 99.4132 202.877 100.86 204.32ZM204.32 122.88C206.868 120.333 208.453 116.981 208.806 113.396C209.159 109.811 208.258 106.214 206.256 103.219C204.254 100.223 201.275 98.0151 197.827 96.97C194.38 95.9249 190.676 96.1077 187.348 97.4873C184.02 98.8669 181.274 101.358 179.577 104.536C177.879 107.714 177.337 111.382 178.041 114.915C178.746 118.448 180.653 121.627 183.439 123.911C186.226 126.195 189.717 127.443 193.32 127.44C195.364 127.443 197.388 127.042 199.275 126.259C201.163 125.476 202.878 124.328 204.32 122.88ZM122.88 19.4205C120.333 16.8729 116.981 15.2876 113.395 14.9347C109.81 14.5817 106.213 15.483 103.218 17.4849C100.223 19.4868 98.0146 22.4654 96.9696 25.9131C95.9245 29.3608 96.1073 33.0642 97.4869 36.3922C98.8665 39.7202 101.358 42.4668 104.535 44.1639C107.713 45.861 111.381 46.4036 114.914 45.6992C118.447 44.9949 121.627 43.0871 123.911 40.301C126.195 37.515 127.442 34.0231 127.44 30.4205C127.44 28.3772 127.038 26.3539 126.255 24.4664C125.473 22.5788 124.326 20.8642 122.88 19.4205ZM19.42 100.86C16.8725 103.408 15.2872 106.76 14.9342 110.345C14.5813 113.93 15.4826 117.527 17.4844 120.522C19.4863 123.518 22.4649 125.726 25.9127 126.771C29.3604 127.816 33.0638 127.633 36.3918 126.254C39.7198 124.874 42.4664 122.383 44.1635 119.205C45.8606 116.027 46.4032 112.359 45.6988 108.826C44.9944 105.293 43.0866 102.114 40.3006 99.8296C37.5145 97.5455 34.0227 96.2983 30.42 96.3005C26.2938 96.3018 22.337 97.9421 19.42 100.86ZM100.86 100.86C98.3125 103.408 96.7272 106.76 96.3742 110.345C96.0213 113.93 96.9226 117.527 98.9244 120.522C100.926 123.518 103.905 125.726 107.353 126.771C110.8 127.816 114.504 127.633 117.832 126.254C121.16 124.874 123.906 122.383 125.604 119.205C127.301 116.027 127.843 112.359 127.139 108.826C126.434 105.293 124.527 102.114 121.741 99.8296C118.955 97.5455 115.463 96.2983 111.86 96.3005C109.817 96.299 107.793 96.701 105.905 97.4835C104.018 98.2661 102.303 99.4136 100.86 100.86Z\" fill=\"#00AEEF\"/>\n",
       "    </g>\n",
       "    <defs>\n",
       "        <clipPath id=\"clip0_4338_178347\">\n",
       "            <rect width=\"566.93\" height=\"223.75\" fill=\"white\"/>\n",
       "        </clipPath>\n",
       "    </defs>\n",
       "  </svg>\n",
       "</div>\n",
       "\n",
       "        <table class=\"jp-RenderedHTMLCommon\" style=\"border-collapse: collapse;color: var(--jp-ui-font-color1);font-size: var(--jp-ui-font-size1);\">\n",
       "    <tr>\n",
       "        <td style=\"text-align: left\"><b>Python version:</b></td>\n",
       "        <td style=\"text-align: left\"><b>3.10.14</b></td>\n",
       "    </tr>\n",
       "    <tr>\n",
       "        <td style=\"text-align: left\"><b>Ray version:</b></td>\n",
       "        <td style=\"text-align: left\"><b>2.37.0</b></td>\n",
       "    </tr>\n",
       "    <tr>\n",
       "    <td style=\"text-align: left\"><b>Dashboard:</b></td>\n",
       "    <td style=\"text-align: left\"><b><a href=\"http://127.0.0.1:8266\" target=\"_blank\">http://127.0.0.1:8266</a></b></td>\n",
       "</tr>\n",
       "\n",
       "</table>\n",
       "\n",
       "    </div>\n",
       "</div>\n"
      ],
      "text/plain": [
       "RayContext(dashboard_url='127.0.0.1:8266', python_version='3.10.14', ray_version='2.37.0', ray_commit='1b620f244c4fb67d80661046091573fb6eefecb6')"
      ]
     },
     "execution_count": 2,
     "metadata": {},
     "output_type": "execute_result"
    }
   ],
   "source": [
    "import ray\n",
    "\n",
    "ray.init(include_dashboard=True, ignore_reinit_error=True)"
   ]
  },
  {
   "cell_type": "code",
   "execution_count": 22,
   "metadata": {},
   "outputs": [
    {
     "data": {
      "text/plain": [
       "[('yellow_tripdata_2015-01.csv', '1.986 GB'),\n",
       " ('yellow_tripdata_2016-01.csv', '1.709 GB'),\n",
       " ('yellow_tripdata_2016-02.csv', '1.784 GB'),\n",
       " ('yellow_tripdata_2016-03.csv', '1.915 GB')]"
      ]
     },
     "execution_count": 22,
     "metadata": {},
     "output_type": "execute_result"
    }
   ],
   "source": [
    "import os \n",
    "\n",
    "sorted([(f,f'{os.path.getsize(os.path.join(\"input/taxis\", f))/1e9:,.4} GB') for f in os.listdir(\"input/taxis\")])"
   ]
  },
  {
   "cell_type": "code",
   "execution_count": 38,
   "metadata": {},
   "outputs": [],
   "source": [
    "ds = ray.data.read_csv(\"input/taxis\")"
   ]
  },
  {
   "cell_type": "code",
   "execution_count": 39,
   "metadata": {},
   "outputs": [
    {
     "name": "stderr",
     "output_type": "stream",
     "text": [
      "2024-10-19 13:03:49,481\tINFO streaming_executor.py:108 -- Starting execution of Dataset. Full logs are in /tmp/ray/session_2024-10-19_12-53-30_691965_23048/logs/ray-data\n",
      "2024-10-19 13:03:49,481\tINFO streaming_executor.py:109 -- Execution plan of Dataset: InputDataBuffer[Input] -> TaskPoolMapOperator[ReadCSV] -> LimitOperator[limit=3]\n"
     ]
    },
    {
     "name": "stdout",
     "output_type": "stream",
     "text": [
      "{'VendorID': 2, 'tpep_pickup_datetime': datetime.datetime(2015, 1, 15, 19, 5, 39), 'tpep_dropoff_datetime': datetime.datetime(2015, 1, 15, 19, 23, 42), 'passenger_count': 1, 'trip_distance': 1.59, 'pickup_longitude': -73.993896484375, 'pickup_latitude': 40.7501106262207, 'RateCodeID': 1, 'store_and_fwd_flag': 'N', 'dropoff_longitude': -73.97478485107422, 'dropoff_latitude': 40.75061798095703, 'payment_type': 1, 'fare_amount': 12.0, 'extra': 1.0, 'mta_tax': 0.5, 'tip_amount': 3.25, 'tolls_amount': 0.0, 'improvement_surcharge': 0.3, 'total_amount': 17.05}\n",
      "{'VendorID': 1, 'tpep_pickup_datetime': datetime.datetime(2015, 1, 10, 20, 33, 38), 'tpep_dropoff_datetime': datetime.datetime(2015, 1, 10, 20, 53, 28), 'passenger_count': 1, 'trip_distance': 3.3, 'pickup_longitude': -74.00164794921875, 'pickup_latitude': 40.7242431640625, 'RateCodeID': 1, 'store_and_fwd_flag': 'N', 'dropoff_longitude': -73.99441528320312, 'dropoff_latitude': 40.75910949707031, 'payment_type': 1, 'fare_amount': 14.5, 'extra': 0.5, 'mta_tax': 0.5, 'tip_amount': 2.0, 'tolls_amount': 0.0, 'improvement_surcharge': 0.3, 'total_amount': 17.8}\n",
      "{'VendorID': 1, 'tpep_pickup_datetime': datetime.datetime(2015, 1, 10, 20, 33, 38), 'tpep_dropoff_datetime': datetime.datetime(2015, 1, 10, 20, 43, 41), 'passenger_count': 1, 'trip_distance': 1.8, 'pickup_longitude': -73.96334075927734, 'pickup_latitude': 40.80278778076172, 'RateCodeID': 1, 'store_and_fwd_flag': 'N', 'dropoff_longitude': -73.95182037353516, 'dropoff_latitude': 40.82441329956055, 'payment_type': 2, 'fare_amount': 9.5, 'extra': 0.5, 'mta_tax': 0.5, 'tip_amount': 0.0, 'tolls_amount': 0.0, 'improvement_surcharge': 0.3, 'total_amount': 10.8}\n",
      "None\n"
     ]
    }
   ],
   "source": [
    "print(ds.show(limit=3))"
   ]
  },
  {
   "cell_type": "code",
   "execution_count": 40,
   "metadata": {},
   "outputs": [
    {
     "name": "stdout",
     "output_type": "stream",
     "text": [
      "Operator 1 ReadCSV->SplitBlocks(4): 3 tasks executed, 7 blocks produced in 1.35s\n",
      "* Remote wall time: 5.37ms min, 1.26s max, 539.72ms mean, 3.78s total\n",
      "* Remote cpu time: 4.84ms min, 1.09s max, 473.21ms mean, 3.31s total\n",
      "* UDF time: 0us min, 0us max, 0.0us mean, 0us total\n",
      "* Peak heap memory usage (MiB): 426812.5 min, 612078.12 max, 536551 mean\n",
      "* Output num rows per block: 225520 min, 226219 max, 225845 mean, 1580916 total\n",
      "* Output size bytes per block: 33602480 min, 33706631 max, 33650926 mean, 235556484 total\n",
      "* Output rows per task: 451040 min, 678657 max, 526972 mean, 3 tasks used\n",
      "* Tasks per node: 3 min, 3 max, 3 mean; 1 nodes used\n",
      "* Operator throughput:\n",
      "\t* Ray Data throughput: 1172905.0476078796 rows/s\n",
      "\t* Estimated single node throughput: 418451.904089599 rows/s\n",
      "\n",
      "Operator 2 limit=3: 1 tasks executed, 1 blocks produced in 1.23s\n",
      "* Remote wall time: 1.23s min, 1.23s max, 1.23s mean, 1.23s total\n",
      "* Remote cpu time: 1.08s min, 1.08s max, 1.08s mean, 1.08s total\n",
      "* UDF time: 0us min, 0us max, 0.0us mean, 0us total\n",
      "* Peak heap memory usage (MiB): 545531.25 min, 545531.25 max, 545531 mean\n",
      "* Output num rows per block: 3 min, 3 max, 3 mean, 3 total\n",
      "* Output size bytes per block: 447 min, 447 max, 447 mean, 447 total\n",
      "* Output rows per task: 3 min, 3 max, 3 mean, 1 tasks used\n",
      "* Tasks per node: 1 min, 1 max, 1 mean; 1 nodes used\n",
      "* Operator throughput:\n",
      "\t* Ray Data throughput: 2.4485091283097837 rows/s\n",
      "\t* Estimated single node throughput: 2.4485091283097837 rows/s\n",
      "\n",
      "Dataset iterator time breakdown:\n",
      "    * Total time in Ray Data iterator initialization code: 1.49s\n",
      "    * Total time user thread is blocked by Ray Data iter_batches: 10.07ms\n",
      "    * Total execution time for user thread: 1.83ms\n",
      "* Batch iteration time breakdown (summed across prefetch threads):\n",
      "    * In ray.get(): 2.47ms min, 2.47ms max, 2.47ms avg, 2.47ms total\n",
      "    * In batch creation: 3.08us min, 3.08us max, 3.08us avg, 3.08us total\n",
      "    * In batch formatting: 7.92us min, 7.92us max, 7.92us avg, 7.92us total\n",
      "\n",
      "Dataset throughput:\n",
      "\t* Ray Data throughput: 2.225744532172259 rows/s\n",
      "\t* Estimated single node throughput: 0.5996106581639181 rows/s\n",
      "\n"
     ]
    }
   ],
   "source": [
    "print(ds.stats())"
   ]
  },
  {
   "cell_type": "code",
   "execution_count": 41,
   "metadata": {},
   "outputs": [
    {
     "name": "stderr",
     "output_type": "stream",
     "text": [
      "2024-10-19 13:05:08,859\tINFO streaming_executor.py:108 -- Starting execution of Dataset. Full logs are in /tmp/ray/session_2024-10-19_12-53-30_691965_23048/logs/ray-data\n",
      "2024-10-19 13:05:08,860\tINFO streaming_executor.py:109 -- Execution plan of Dataset: InputDataBuffer[Input] -> TaskPoolMapOperator[ReadCSV]\n"
     ]
    },
    {
     "data": {
      "text/plain": [
       "Column                 Type\n",
       "------                 ----\n",
       "VendorID               int64\n",
       "tpep_pickup_datetime   timestamp[s]\n",
       "tpep_dropoff_datetime  timestamp[s]\n",
       "passenger_count        int64\n",
       "trip_distance          double\n",
       "pickup_longitude       double\n",
       "pickup_latitude        double\n",
       "RatecodeID             int64\n",
       "store_and_fwd_flag     string\n",
       "dropoff_longitude      double\n",
       "dropoff_latitude       double\n",
       "payment_type           int64\n",
       "fare_amount            double\n",
       "extra                  double\n",
       "mta_tax                double\n",
       "tip_amount             double\n",
       "tolls_amount           double\n",
       "improvement_surcharge  double\n",
       "total_amount           double"
      ]
     },
     "execution_count": 41,
     "metadata": {},
     "output_type": "execute_result"
    }
   ],
   "source": [
    "ds.schema()"
   ]
  }
 ],
 "metadata": {
  "kernelspec": {
   "display_name": ".venv",
   "language": "python",
   "name": "python3"
  },
  "language_info": {
   "codemirror_mode": {
    "name": "ipython",
    "version": 3
   },
   "file_extension": ".py",
   "mimetype": "text/x-python",
   "name": "python",
   "nbconvert_exporter": "python",
   "pygments_lexer": "ipython3",
   "version": "3.10.14"
  }
 },
 "nbformat": 4,
 "nbformat_minor": 2
}
